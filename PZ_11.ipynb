{
  "nbformat": 4,
  "nbformat_minor": 0,
  "metadata": {
    "colab": {
      "name": "Untitled0.ipynb",
      "provenance": [],
      "authorship_tag": "ABX9TyO0kmvrQZIyQAg07OClSun5",
      "include_colab_link": true
    },
    "kernelspec": {
      "name": "python3",
      "display_name": "Python 3"
    },
    "language_info": {
      "name": "python"
    }
  },
  "cells": [
    {
      "cell_type": "markdown",
      "metadata": {
        "id": "view-in-github",
        "colab_type": "text"
      },
      "source": [
        "<a href=\"https://colab.research.google.com/github/TishchenkoVlad/Proj_1sem_TishchenkoV/blob/master/PZ_11.ipynb\" target=\"_parent\"><img src=\"https://colab.research.google.com/assets/colab-badge.svg\" alt=\"Open In Colab\"/></a>"
      ]
    },
    {
      "cell_type": "markdown",
      "source": [
        "PZ_3_1"
      ],
      "metadata": {
        "id": "ESUefwhCQuLU"
      }
    },
    {
      "cell_type": "code",
      "source": [
        "# Дано трехзначное число. Проверить истинность высказывания: «Цифры данного числа\n",
        "# образуют возрастающую или убывающую последовательность».\n",
        "\n",
        "import sys\n",
        "\n",
        "ches1 = input(\"Введите первую цифру: \")  # Вводим цифры\n",
        "ches2 = input(\"Введите вторую цифру: \")\n",
        "ches3 = input(\"Введите третью цифру: \")\n",
        "\n",
        "# Проверка\n",
        "while True:\n",
        "    try:\n",
        "        ches1 = int(ches1)\n",
        "        ches2 = int(ches2)\n",
        "        ches3 = int(ches3)\n",
        "        break\n",
        "    except ValueError:\n",
        "        print(\"Ошибка\")\n",
        "        ches1 = input(\"Введите первую цифру: \")\n",
        "        ches2 = input(\"Введите вторую цифру: \")\n",
        "        ches3 = input(\"Введите третью цифру: \")\n",
        "\n",
        "# Проверяем условия и выводим ответ\n",
        "while True:\n",
        "    if 0 < ches1 < 10:\n",
        "        pass\n",
        "    elif 0 < ches2 < 10:\n",
        "        pass\n",
        "    elif 0 < ches3 < 10:\n",
        "        pass\n",
        "    else:\n",
        "        print(\"Ошибка\")\n",
        "        sys.exit()\n",
        "    break\n",
        "\n",
        "print((ches1 > ches2 > ches3) or (ches1 < ches2 < ches3))"
      ],
      "metadata": {
        "colab": {
          "base_uri": "https://localhost:8080/"
        },
        "id": "11YuDPK7QzsM",
        "outputId": "6c3e532f-02ef-4317-e57d-06df40b24643"
      },
      "execution_count": 1,
      "outputs": [
        {
          "output_type": "stream",
          "name": "stdout",
          "text": [
            "Введите первую цифру: 1\n",
            "Введите вторую цифру: 2\n",
            "Введите третью цифру: 3\n",
            "True\n"
          ]
        }
      ]
    },
    {
      "cell_type": "markdown",
      "source": [
        "PZ_4_1"
      ],
      "metadata": {
        "id": "bPL2dGlYQ-ok"
      }
    },
    {
      "cell_type": "code",
      "source": [
        "# Даны целые положительные числа N и K. Найти сумму 1 K + 2 К + ... + N K .\n",
        "\n",
        "n = input(\"Введите целое число: \") # Вводим переменные и  счётчики\n",
        "k = input(\"Введите целое число: \")\n",
        "g = 0\n",
        "ches = 1\n",
        "\n",
        "while True: # Проверка на ошибки\n",
        "    try:\n",
        "        n = int(n)\n",
        "        k = int(k)\n",
        "        break\n",
        "    except ValueError:\n",
        "        print(\"Ошибка\")\n",
        "        n = input(\"Введите целое число: \")\n",
        "        k = input(\"Введите целое число: \")\n",
        "\n",
        "while ches != n + 1: # Условие\n",
        "    s = ches ** k\n",
        "    ches += 1\n",
        "    g += s\n",
        "\n",
        "print(g)"
      ],
      "metadata": {
        "id": "3ZqGGLphRAkF"
      },
      "execution_count": null,
      "outputs": []
    },
    {
      "cell_type": "markdown",
      "source": [
        "PZ_5_1"
      ],
      "metadata": {
        "id": "MOS4rNawRFbc"
      }
    },
    {
      "cell_type": "code",
      "source": [
        "# С помощью функций получить вертикальную и горизонтальную линии. Линия проводится\n",
        "# многократной печатью символа. Заключить слово в рамку из полученных линий.\n",
        "\n",
        "def Ramka(slovo):          # Вводим функцию\n",
        "    dlina = len(slovo)     # Находим длину слова\n",
        "    Ramka = ''\n",
        "    for i in range(3):     # Цикл и проверка строк\n",
        "        if i != 1:\n",
        "            Ramka += '*' * (dlina + 2) + '\\n'\n",
        "        else:\n",
        "            Ramka += \"*\" + slovo + \"*\" + '\\n'\n",
        "    return Ramka\n",
        "\n",
        "res = Ramka(input(\"Введите слово: \")) # Вводим слово и получаем результат\n",
        "print(res)"
      ],
      "metadata": {
        "id": "xfMefHsaRIit"
      },
      "execution_count": null,
      "outputs": []
    }
  ]
}